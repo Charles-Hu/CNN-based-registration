{
 "cells": [
  {
   "cell_type": "code",
   "execution_count": 1,
   "id": "ac41c86e",
   "metadata": {},
   "outputs": [],
   "source": [
    "import numpy as np\n",
    "import time\n",
    "import torch\n",
    "import os\n",
    "from tqdm import tqdm\n",
    "from model.DCN import *\n",
    "import json"
   ]
  },
  {
   "cell_type": "code",
   "execution_count": null,
   "id": "9b5e5a7e",
   "metadata": {},
   "outputs": [],
   "source": []
  },
  {
   "cell_type": "code",
   "execution_count": null,
   "id": "f636887f",
   "metadata": {},
   "outputs": [],
   "source": []
  },
  {
   "cell_type": "code",
   "execution_count": 2,
   "id": "b061c52e",
   "metadata": {},
   "outputs": [],
   "source": [
    "def load_checkpoint(model, checkpoint_PATH, optimizer):\n",
    "    list_epoch = []\n",
    "    for i in os.listdir(checkpoint_PATH):\n",
    "        if \".tar\" in i:\n",
    "            list_epoch.append(int(i[6:-8]))\n",
    "    load_epoch = np.max(list_epoch)\n",
    "    checkpoint_PATH = checkpoint_PATH+\"/epoch_\"+str(load_epoch)+\".pth.tar\"\n",
    "\n",
    "    model_CKPT = torch.load(checkpoint_PATH)\n",
    "    model.load_state_dict(model_CKPT['state_dict'])\n",
    "    print('loading checkpoint!')\n",
    "    optimizer.load_state_dict(model_CKPT['optimizer'])\n",
    "    epoch = model_CKPT['epoch'] + 1\n",
    "    return model, optimizer, epoch"
   ]
  },
  {
   "cell_type": "code",
   "execution_count": null,
   "id": "2c9bf1a4",
   "metadata": {},
   "outputs": [],
   "source": []
  },
  {
   "cell_type": "code",
   "execution_count": 3,
   "id": "1d1574b3",
   "metadata": {},
   "outputs": [],
   "source": [
    "def train(start_epoch, net_kargs, model, device, save_path):\n",
    "    for epoch in range(start_epoch, net_kargs['epoch']):\n",
    "        model.train()\n",
    "    \n",
    "        epoch_total_loss = []\n",
    "        epoch_step_time = []\n",
    "        epoch_test_loss = []\n",
    "    \n",
    "        pbar = tqdm(range(0,net_kargs['train_iteration']))\n",
    "        for step in pbar:\n",
    "            pbar.set_description(\"train iteration %s\" % step)\n",
    "            step_start_time = time.time()\n",
    "\n",
    "            a = torch.zeros(1,1,128,128,128)\n",
    "            fixed_image, moving_image = dataloader #use your own DataProvider\n",
    "            fixed_image = fixed_image.to(device)\n",
    "            moving_image = moving_image.to(device)\n",
    "            y_pred, matrix = model(moving_image, fixed_image, device)\n",
    "\n",
    "\n",
    "            loss_fu = torch.nn.MSELoss()\n",
    "            loss = loss_fu(y_pred,fixed_image)\n",
    "\n",
    "            epoch_total_loss.append(loss.item())\n",
    "            optimizer.zero_grad()\n",
    "            loss.backward()\n",
    "            optimizer.step()\n",
    "            pbar.set_postfix(train_loss_value=loss.item())\n",
    "            epoch_step_time.append(time.time() - step_start_time)\n",
    "\n",
    "        model.eval()\n",
    "        with torch.no_grad():\n",
    "            pbar = tqdm(range(0,net_kargs['test_iteration']))\n",
    "            for step in pbar:\n",
    "                fixed_image, moving_image = dataloader#use your own DataProvider\n",
    "                fixed_image = fixed_image.to(device)\n",
    "                moving_image = moving_image.to(device)\n",
    "                y_pred, matrix = model(moving_image, fixed_image, device)\n",
    "\n",
    "                loss_fu_test = torch.nn.MSELoss()\n",
    "                loss_test = loss_fu(y_pred,fixed_image)\n",
    "\n",
    "                epoch_test_loss.append(loss_test.item())\n",
    "                pbar.set_postfix(test_loss_value=loss_test.item())\n",
    "\n",
    "        if epoch % net_kargs['save_epoch'] == 0:\n",
    "            torch.save({'epoch': epoch, 'state_dict': model.state_dict(),\n",
    "                            'optimizer': optimizer.state_dict()},\n",
    "                           save_path + '/epoch_' + str(epoch) + '.pth.tar')\n",
    "\n",
    "        epoch_info = 'Epoch %d/%d' % (epoch + 1, net_kargs['epoch'])\n",
    "        time_info = '%.4f sec/step' % np.mean(epoch_step_time)\n",
    "\n",
    "        loss_info = 'loss: %.4e' % np.mean(epoch_total_loss)\n",
    "        test_info = 'test_loss: %.4e' % np.mean(epoch_test_loss)\n",
    "\n",
    "        print(' - '.join((epoch_info, time_info, loss_info,test_info)), flush=True)"
   ]
  },
  {
   "cell_type": "code",
   "execution_count": null,
   "id": "fb14788f",
   "metadata": {},
   "outputs": [],
   "source": [
    "if __name__ == '__main__':\n",
    "    \n",
    "    with open(\"config.json\") as File:\n",
    "        net_kargs = json.load(File)\n",
    "        \n",
    "    device = torch.device('cuda' if torch.cuda.is_available() else 'cpu')\n",
    "\n",
    "    #load or initialize model\n",
    "    if net_kargs['if_load'] == True:\n",
    "        if os.listdir(net_kargs['save_path']) != []:\n",
    "            model = DCN(net_kargs['input_channels'],32)\n",
    "            model.to(device)\n",
    "            optimizer = torch.optim.Adam(model.parameters(), lr=net_kargs['lr'])\n",
    "            model, optimizer, start_epoch= load_checkpoint(model, net_kargs['save_path'], optimizer)\n",
    "    else:\n",
    "        model = DCN(net_kargs['input_channels'],32)\n",
    "        model.to(device)\n",
    "        optimizer = torch.optim.Adam(model.parameters(), lr=net_kargs['lr'])\n",
    "        start_epoch = 0\n",
    "    \n",
    "    #train and save model\n",
    "    train(start_epoch, net_kargs, model, device, net_kargs['save_path'])"
   ]
  },
  {
   "cell_type": "code",
   "execution_count": null,
   "id": "d7f98afe",
   "metadata": {},
   "outputs": [],
   "source": []
  },
  {
   "cell_type": "code",
   "execution_count": null,
   "id": "11383fe1",
   "metadata": {},
   "outputs": [],
   "source": []
  },
  {
   "cell_type": "code",
   "execution_count": null,
   "id": "4b704878",
   "metadata": {},
   "outputs": [],
   "source": []
  },
  {
   "cell_type": "code",
   "execution_count": null,
   "id": "543f788d",
   "metadata": {},
   "outputs": [],
   "source": []
  }
 ],
 "metadata": {
  "kernelspec": {
   "display_name": "Python 3 (ipykernel)",
   "language": "python",
   "name": "python3"
  },
  "language_info": {
   "codemirror_mode": {
    "name": "ipython",
    "version": 3
   },
   "file_extension": ".py",
   "mimetype": "text/x-python",
   "name": "python",
   "nbconvert_exporter": "python",
   "pygments_lexer": "ipython3",
   "version": "3.8.9"
  }
 },
 "nbformat": 4,
 "nbformat_minor": 5
}
